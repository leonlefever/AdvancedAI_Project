{
 "cells": [
  {
   "cell_type": "code",
   "execution_count": null,
   "id": "72f39ebd",
   "metadata": {},
   "outputs": [
    {
     "name": "stdout",
     "output_type": "stream",
     "text": [
      "✅ Created listings_with_preds.csv with 21707 rows\n"
     ]
    }
   ],
   "source": [
    "import pandas as pd\n",
    "\n",
    "# Load your real dataset\n",
    "df = pd.read_csv(\"../data/processed/cleaned_data.csv\")\n",
    "\n",
    "# Create the table for embeddings\n",
    "df_to_embed = pd.DataFrame({\n",
    "    \"listing_id\": range(len(df)),  # Generate unique ID from index\n",
    "    \"title\": df[\"title\"],\n",
    "    \"subtitle\": df[\"subtitle\"],\n",
    "    \"pred_price\": df[\"buy_price\"],  # Use actual price\n",
    "    \"shap_top3\": \"[]\"               # placeholder for now\n",
    "})\n",
    "\n",
    "# Save it\n",
    "df_to_embed.to_csv(\"../data/processed/listings_with_preds.csv\", index=False)\n",
    "print(\"Created listings_with_preds.csv with\", len(df_to_embed), \"rows\")\n"
   ]
  },
  {
   "cell_type": "code",
   "execution_count": 1,
   "id": "7b62f2dc",
   "metadata": {},
   "outputs": [],
   "source": [
    "import os\n",
    "from dotenv import load_dotenv\n",
    "\n",
    "load_dotenv()\n",
    "\n",
    "api_key = os.getenv(\"OPENAI_API_KEY\")\n",
    "\n",
    "os.environ[\"OPENAI_API_KEY\"] = api_key\n"
   ]
  },
  {
   "cell_type": "code",
   "execution_count": null,
   "id": "f3c01af9",
   "metadata": {},
   "outputs": [
    {
     "name": "stdout",
     "output_type": "stream",
     "text": [
      "✅ Saved 21707 embeddings to vectorstore/\n"
     ]
    }
   ],
   "source": [
    "from sentence_transformers import SentenceTransformer\n",
    "import pandas as pd, json, numpy as np, pathlib\n",
    "\n",
    "df = pd.read_csv(\"../data/processed/listings_with_preds.csv\")\n",
    "model = SentenceTransformer(\"sentence-transformers/all-MiniLM-L12-v2\")\n",
    "\n",
    "texts, ids = [], []\n",
    "for _, r in df.iterrows():\n",
    "    shap_list = json.loads(r[\"shap_top3\"])  # even if empty\n",
    "    txt = (\n",
    "        f\"Title: {r['title']}\\n\"\n",
    "        f\"Neighbourhood: {r['subtitle']}\\n\"\n",
    "        f\"Top-3 price drivers: {', '.join(shap_list)}\\n\"\n",
    "        f\"Predicted price: €{r['pred_price']:,.0f}\"\n",
    "    )\n",
    "    texts.append(txt)\n",
    "    ids.append(int(r[\"listing_id\"]))\n",
    "\n",
    "emb = model.encode(texts, convert_to_numpy=True).astype(\"float32\")\n",
    "\n",
    "pathlib.Path(\"vectorstore\").mkdir(exist_ok=True)\n",
    "np.save(\"vectorstore/embeddings.npy\", emb)\n",
    "np.save(\"vectorstore/ids.npy\", np.array(ids))\n",
    "\n",
    "print(\"Saved\", emb.shape[0], \"embeddings to vectorstore/\")\n"
   ]
  },
  {
   "cell_type": "code",
   "execution_count": 4,
   "id": "55d025b3",
   "metadata": {},
   "outputs": [
    {
     "name": "stdout",
     "output_type": "stream",
     "text": [
      "Saved 21707 embeddings → vectorstore/\n"
     ]
    }
   ],
   "source": [
    "import numpy as np\n",
    "import pathlib\n",
    "\n",
    "texts = []\n",
    "ids   = []\n",
    "\n",
    "for _, r in df.iterrows():\n",
    "    shap_list = json.loads(r[\"shap_top3\"])\n",
    "    txt = (\n",
    "        f\"Title: {r['title']}\\n\"\n",
    "        f\"Neighbourhood: {r['subtitle']}\\n\"\n",
    "        f\"Top-3 price drivers: {', '.join(shap_list)}\\n\"\n",
    "        f\"Predicted price: €{r['pred_price']:,.0f}\"\n",
    "    )\n",
    "    texts.append(txt)\n",
    "    ids.append(int(r[\"listing_id\"]))\n",
    "\n",
    "emb_matrix = model.encode(texts, convert_to_numpy=True).astype(\"float32\")   # shape (N, 384)\n",
    "\n",
    "# Save\n",
    "pathlib.Path(\"vectorstore\").mkdir(exist_ok=True)\n",
    "np.save(\"vectorstore/embeddings.npy\", emb_matrix)\n",
    "np.save(\"vectorstore/ids.npy\", np.array(ids))\n",
    "\n",
    "print(\"Saved\", emb_matrix.shape[0], \"embeddings → vectorstore/\")\n"
   ]
  },
  {
   "cell_type": "code",
   "execution_count": 6,
   "id": "6e748540",
   "metadata": {},
   "outputs": [],
   "source": [
    "import faiss\n",
    "import numpy as np\n",
    "\n",
    "# Load previously saved embeddings and index\n",
    "emb = np.load(\"vectorstore/embeddings.npy\")\n",
    "ids = np.load(\"vectorstore/ids.npy\")\n",
    "index = faiss.read_index(\"vectorstore/madrid.faiss\")\n"
   ]
  },
  {
   "cell_type": "code",
   "execution_count": 7,
   "id": "b4ecebfb",
   "metadata": {},
   "outputs": [
    {
     "name": "stdout",
     "output_type": "stream",
     "text": [
      "Top 5 matching listing IDs: [14277 15712 14856 15021 14863]\n"
     ]
    }
   ],
   "source": [
    "from sentence_transformers import SentenceTransformer\n",
    "\n",
    "model = SentenceTransformer(\"sentence-transformers/all-MiniLM-L12-v2\")\n",
    "\n",
    "query = \"modern flat with terrace in chamartín\"\n",
    "q_vec = model.encode(query, convert_to_numpy=True).astype(\"float32\")\n",
    "faiss.normalize_L2(q_vec.reshape(1, -1))\n",
    "\n",
    "D, I = index.search(q_vec.reshape(1, -1), k=5)\n",
    "print(\"Top 5 matching listing IDs:\", ids[I[0]])\n"
   ]
  },
  {
   "cell_type": "code",
   "execution_count": 24,
   "id": "71cdc8b2",
   "metadata": {},
   "outputs": [
    {
     "name": "stderr",
     "output_type": "stream",
     "text": [
      "C:\\Users\\Leon\\AppData\\Local\\Temp\\ipykernel_33940\\3209062961.py:22: LangChainDeprecationWarning: The class `HuggingFaceEmbeddings` was deprecated in LangChain 0.2.2 and will be removed in 1.0. An updated version of the class exists in the :class:`~langchain-huggingface package and should be used instead. To use it run `pip install -U :class:`~langchain-huggingface` and import as `from :class:`~langchain_huggingface import HuggingFaceEmbeddings``.\n",
      "  embedding = HuggingFaceEmbeddings(model_name=\"sentence-transformers/all-MiniLM-L12-v2\")\n"
     ]
    }
   ],
   "source": [
    "from langchain_community.vectorstores import FAISS\n",
    "from langchain.embeddings import HuggingFaceEmbeddings\n",
    "from langchain.chat_models import ChatOpenAI\n",
    "from langchain.chains import RetrievalQA\n",
    "from langchain.schema import Document\n",
    "from sentence_transformers import SentenceTransformer\n",
    "import pandas as pd\n",
    "\n",
    "# 1. Load your data\n",
    "df = pd.read_csv(\"../data/processed/listings_with_preds.csv\")\n",
    "\n",
    "docs = [\n",
    "    Document(\n",
    "        page_content=f\"Listing {row.listing_id}: {row.title} in {row.subtitle}, price €{row.pred_price}\",\n",
    "        metadata={\"listing_id\": int(row.listing_id)}\n",
    "    )\n",
    "    for _, row in df.iterrows()\n",
    "]\n",
    "\n",
    "# 2. Use local model to avoid OpenAI embedding mismatch\n",
    "hf_model = SentenceTransformer(\"sentence-transformers/all-MiniLM-L12-v2\")\n",
    "embedding = HuggingFaceEmbeddings(model_name=\"sentence-transformers/all-MiniLM-L12-v2\")\n",
    "\n",
    "# 3. Build the new vectorstore from scratch\n",
    "vectorstore = FAISS.from_documents(docs, embedding)\n",
    "retriever = vectorstore.as_retriever()\n"
   ]
  },
  {
   "cell_type": "code",
   "execution_count": 25,
   "id": "231aed30",
   "metadata": {},
   "outputs": [
    {
     "name": "stdout",
     "output_type": "stream",
     "text": [
      "🤖 Homes in Chamartín may be more expensive due to factors such as the neighborhood's location, amenities, infrastructure, and overall desirability. Additionally, Chamartín is known for being an upscale area in Madrid, which can contribute to higher property prices compared to other neighborhoods.\n"
     ]
    }
   ],
   "source": [
    "llm = ChatOpenAI(model_name=\"gpt-3.5-turbo\", temperature=0)\n",
    "\n",
    "qa = RetrievalQA.from_chain_type(\n",
    "    llm=llm,\n",
    "    retriever=retriever,\n",
    "    return_source_documents=True\n",
    ")\n",
    "\n",
    "response = qa.invoke(\"Why are homes in Chamartín more expensive?\")\n",
    "print(\"🤖\", response[\"result\"])\n"
   ]
  }
 ],
 "metadata": {
  "kernelspec": {
   "display_name": "Python 3",
   "language": "python",
   "name": "python3"
  },
  "language_info": {
   "codemirror_mode": {
    "name": "ipython",
    "version": 3
   },
   "file_extension": ".py",
   "mimetype": "text/x-python",
   "name": "python",
   "nbconvert_exporter": "python",
   "pygments_lexer": "ipython3",
   "version": "3.11.5"
  }
 },
 "nbformat": 4,
 "nbformat_minor": 5
}
