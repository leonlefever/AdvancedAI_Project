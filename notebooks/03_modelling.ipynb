{
 "cells": [
  {
   "cell_type": "code",
   "execution_count": 101,
   "id": "72f39ebd",
   "metadata": {},
   "outputs": [
    {
     "name": "stdout",
     "output_type": "stream",
     "text": [
      "Created listings_with_preds.csv with 21707 rows\n"
     ]
    }
   ],
   "source": [
    "import pandas as pd\n",
    "\n",
    "\n",
    "df = pd.read_csv(\"../data/processed/cleaned_data.csv\")\n",
    "\n",
    "\n",
    "df_to_embed = pd.DataFrame({\n",
    "    \"listing_id\": range(len(df)), \n",
    "    \"title\": df[\"title\"],\n",
    "    \"subtitle\": df[\"subtitle\"],\n",
    "    \"pred_price\": df[\"buy_price\"],  \n",
    "    \"sq_mt_built\": df[\"sq_mt_built\"],\n",
    "    \"n_rooms\": df[\"n_rooms\"],\n",
    "    \"n_bathrooms\": df[\"n_bathrooms\"],\n",
    "    \"built_year\": df[\"built_year\"],\n",
    "    \"has_lift\": df[\"has_lift\"],\n",
    "    \"has_terrace\": df[\"has_terrace\"],\n",
    "    \"has_pool\": df[\"has_pool\"],\n",
    "    \"has_parking\": df[\"has_parking\"],\n",
    "    \"neighborhood_id\": df[\"neighborhood_id\"],  \n",
    "    \"rent_price\": df[\"rent_price\"],\n",
    "    \"shap_top3\": \"[]\"            \n",
    "})\n",
    "\n",
    "\n",
    "df_to_embed.to_csv(\"../data/processed/listings_with_preds.csv\", index=False)\n",
    "print(\"Created listings_with_preds.csv with\", len(df_to_embed), \"rows\")\n"
   ]
  },
  {
   "cell_type": "code",
   "execution_count": null,
   "id": "5706ea2b",
   "metadata": {},
   "outputs": [
    {
     "name": "stdout",
     "output_type": "stream",
     "text": [
      "XGBoost RMSE: 0.216\n"
     ]
    }
   ],
   "source": [
    "import xgboost as xgb\n",
    "from sklearn.model_selection import train_test_split\n",
    "from sklearn.metrics import mean_squared_error\n",
    "import numpy as np\n",
    "for col in [\"neighborhood_id\", \"house_type_id\"]:\n",
    "    df[col] = df[col].astype(\"category\").cat.codes\n",
    "\n",
    "# features\n",
    "features = [\n",
    "    \"sq_mt_built\", \"n_rooms\", \"n_bathrooms\", \"neighborhood_id\", \n",
    "    \"house_type_id\", \"has_terrace\", \"has_lift\", \"is_exterior\",\n",
    "    \"log_sq_mt_built\", \"building_age\", \"has_pool\", \"has_parking\", \"rent_price\"\n",
    "]\n",
    "target = \"log_buy_price\"\n",
    "\n",
    "\n",
    "df_model = df[features + [target]].dropna()\n",
    "X = df_model[features]\n",
    "y = df_model[target]\n",
    "\n",
    "\n",
    "X_train, X_test, y_train, y_test = train_test_split(X, y, test_size=0.2, random_state=42)\n",
    "\n",
    "# Train \n",
    "model = xgb.XGBRegressor(\n",
    "    n_estimators=200,\n",
    "    learning_rate=0.05,\n",
    "    max_depth=6,\n",
    "    subsample=0.8,\n",
    "    colsample_bytree=0.8,\n",
    "    random_state=42\n",
    ")\n",
    "model.fit(X_train, y_train)\n",
    "\n",
    "# Evaluate\n",
    "y_pred = model.predict(X_test)\n",
    "rmse = mean_squared_error(y_test, y_pred) ** 0.5\n",
    "print(\"XGBoost RMSE:\", round(rmse, 3))\n",
    "\n",
    "# Predict on full data and save\n",
    "df[\"pred_price\"] = np.expm1(model.predict(df[features].fillna(0)))\n",
    "\n"
   ]
  },
  {
   "cell_type": "code",
   "execution_count": 103,
   "id": "d21dd437",
   "metadata": {},
   "outputs": [
    {
     "name": "stdout",
     "output_type": "stream",
     "text": [
      "SHAP explanations added and saved\n"
     ]
    }
   ],
   "source": [
    "import shap\n",
    "import json\n",
    "\n",
    "explainer = shap.Explainer(model)\n",
    "shap_values = explainer(X)\n",
    "\n",
    "top3_idxs = np.argsort(-np.abs(shap_values.values), axis=1)[:, :3]\n",
    "top3_features = [[features[i] for i in row] for row in top3_idxs]\n",
    "\n",
    "df_preds = pd.read_csv(\"../data/processed/listings_with_preds.csv\")\n",
    "\n",
    "df_preds[\"shap_top3\"] = [json.dumps(lst) for lst in top3_features]\n",
    "\n",
    "df_preds.to_csv(\"../data/processed/listings_with_preds.csv\", index=False)\n",
    "print(\"SHAP explanations added and saved\")\n"
   ]
  },
  {
   "cell_type": "code",
   "execution_count": 104,
   "id": "7b62f2dc",
   "metadata": {},
   "outputs": [],
   "source": [
    "import os\n",
    "from dotenv import load_dotenv\n",
    "\n",
    "load_dotenv()\n",
    "\n",
    "api_key = os.getenv(\"OPENAI_API_KEY\")\n",
    "\n",
    "os.environ[\"OPENAI_API_KEY\"] = api_key\n"
   ]
  },
  {
   "cell_type": "code",
   "execution_count": 105,
   "id": "7e5e785f",
   "metadata": {},
   "outputs": [
    {
     "name": "stdout",
     "output_type": "stream",
     "text": [
      "['listing_id', 'title', 'subtitle', 'pred_price', 'sq_mt_built', 'n_rooms', 'n_bathrooms', 'built_year', 'has_lift', 'has_terrace', 'has_pool', 'has_parking', 'neighborhood_id', 'rent_price', 'shap_top3']\n"
     ]
    }
   ],
   "source": [
    "import pandas as pd\n",
    "\n",
    "df = pd.read_csv(\"../data/processed/listings_with_preds.csv\")\n",
    "print(df.columns.tolist())"
   ]
  },
  {
   "cell_type": "code",
   "execution_count": 106,
   "id": "f3c01af9",
   "metadata": {},
   "outputs": [
    {
     "name": "stdout",
     "output_type": "stream",
     "text": [
      "Saved 21707 embeddings to ../vectorstore\n"
     ]
    }
   ],
   "source": [
    "from sentence_transformers import SentenceTransformer\n",
    "import pandas as pd, json, numpy as np, pathlib\n",
    "\n",
    "df = pd.read_csv(\"../data/processed/listings_with_preds.csv\")\n",
    "model = SentenceTransformer(\"sentence-transformers/all-MiniLM-L12-v2\")\n",
    "\n",
    "texts, ids = [], []\n",
    "for _, r in df.iterrows():\n",
    "    shap_list = json.loads(r[\"shap_top3\"])  \n",
    "    txt = (\n",
    "            f\"Title: {r['title']}\\n\"\n",
    "            f\"Neighbourhood: {r['subtitle']}\\n\"\n",
    "            f\"Top-3 price drivers: {', '.join(shap_list)}\\n\"\n",
    "            f\"Predicted price: €{r['pred_price']:,.0f}\\n\"\n",
    "            f\"Size: {r['sq_mt_built']} m²\\n\"\n",
    "            f\"Rooms: {r['n_rooms']} | Bathrooms: {r['n_bathrooms']}\\n\"\n",
    "            f\"Built year: {r['built_year']}\\n\"\n",
    "            f\"Has lift: {r['has_lift']} | Terrace: {r['has_terrace']} | Pool: {r['has_pool']}\\n\"\n",
    "            f\"Parking available: {r['has_parking']}\\n\"\n",
    "            f\"Neighborhood ID: {r['neighborhood_id']}\"\n",
    "            f\"rent_price: {r['rent_price']}\"\n",
    "        )\n",
    "    texts.append(txt)\n",
    "    ids.append(int(r[\"listing_id\"]))\n",
    "\n",
    "emb = model.encode(texts, convert_to_numpy=True).astype(\"float32\")\n",
    "\n",
    "output_dir = \"../vectorstore\"\n",
    "pathlib.Path(output_dir).mkdir(exist_ok=True)\n",
    "np.save(f\"{output_dir}/embeddings.npy\", emb)\n",
    "np.save(f\"{output_dir}/ids.npy\", np.array(ids))\n",
    "\n",
    "print(\"Saved\", emb.shape[0], \"embeddings to\", output_dir)\n"
   ]
  },
  {
   "cell_type": "code",
   "execution_count": 107,
   "id": "71cdc8b2",
   "metadata": {},
   "outputs": [
    {
     "name": "stdout",
     "output_type": "stream",
     "text": [
      "Saved LangChain FAISS vectorstore (madrid.faiss + madrid.pkl)\n"
     ]
    }
   ],
   "source": [
    "from langchain_community.vectorstores import FAISS\n",
    "from langchain_community.embeddings import HuggingFaceEmbeddings\n",
    "from langchain.schema import Document\n",
    "import pandas as pd, json\n",
    "from pathlib import Path\n",
    "\n",
    "\n",
    "df = pd.read_csv(\"../data/processed/listings_with_preds.csv\")\n",
    "\n",
    "\n",
    "docs = []\n",
    "for _, r in df.iterrows():\n",
    "    shap_list = json.loads(r[\"shap_top3\"]) if r[\"shap_top3\"] else []\n",
    "    txt = (\n",
    "        f\"Title: {r['title']}\\n\"\n",
    "        f\"Neighbourhood: {r['subtitle']}\\n\"\n",
    "        f\"Top-3 price drivers: {', '.join(shap_list)}\\n\"\n",
    "        f\"Predicted price: €{r['pred_price']:,.0f}\\n\"\n",
    "        f\"Size: {r['sq_mt_built']} m²\\n\"\n",
    "        f\"Rooms: {r['n_rooms']} | Bathrooms: {r['n_bathrooms']}\\n\"\n",
    "        f\"Built year: {r['built_year']}\\n\"\n",
    "        f\"Has lift: {r['has_lift']} | Terrace: {r['has_terrace']} | Pool: {r['has_pool']}\\n\"\n",
    "        f\"Parking available: {r['has_parking']}\\n\"\n",
    "        f\"Neighborhood ID: {r['neighborhood_id']}\"\n",
    "        f\"rent_price: {r['rent_price']}\"\n",
    "    )\n",
    "    docs.append(Document(page_content=txt, metadata={\"listing_id\": int(r[\"listing_id\"])}))\n",
    "\n",
    "\n",
    "embedding = HuggingFaceEmbeddings(model_name=\"sentence-transformers/all-MiniLM-L12-v2\")\n",
    "\n",
    "\n",
    "vectorstore = FAISS.from_documents(docs, embedding)\n",
    "vectorstore.save_local(folder_path=\"../vectorstore\", index_name=\"madrid\")\n",
    "\n",
    "print(\"Saved LangChain FAISS vectorstore (madrid.faiss + madrid.pkl)\")\n"
   ]
  },
  {
   "cell_type": "code",
   "execution_count": 108,
   "id": "2113a279",
   "metadata": {},
   "outputs": [
    {
     "name": "stdout",
     "output_type": "stream",
     "text": [
      "Top 5 matching listing IDs: [14634, 15423, 15355, 15442, 14789]\n"
     ]
    }
   ],
   "source": [
    "import faiss\n",
    "import numpy as np\n",
    "from sentence_transformers import SentenceTransformer\n",
    "\n",
    "# Load FAISS index and corresponding IDs\n",
    "index = faiss.read_index(\"../vectorstore/madrid.faiss\")\n",
    "ids = np.load(\"../vectorstore/ids.npy\")\n",
    "\n",
    "# Load model\n",
    "model = SentenceTransformer(\"sentence-transformers/all-MiniLM-L12-v2\")\n",
    "\n",
    "# Define query\n",
    "query = \"modern flat with terrace in chamartín\"\n",
    "q_vec = model.encode(query, convert_to_numpy=True).astype(\"float32\")\n",
    "\n",
    "# Normalize and search\n",
    "faiss.normalize_L2(q_vec.reshape(1, -1))\n",
    "D, I = index.search(q_vec.reshape(1, -1), k=5)\n",
    "\n",
    "# Show results\n",
    "top_ids = ids[I[0]]\n",
    "print(\"Top 5 matching listing IDs:\", list(top_ids))\n"
   ]
  },
  {
   "cell_type": "code",
   "execution_count": 109,
   "id": "231aed30",
   "metadata": {},
   "outputs": [
    {
     "name": "stdout",
     "output_type": "stream",
     "text": [
      "🤖 Homes in Chamartín may be more expensive due to factors such as the neighborhood's popularity, amenities, infrastructure, and overall quality of life. Additionally, Chamartín is a well-established and sought-after district in Madrid, which can contribute to higher property prices compared to other areas.\n"
     ]
    }
   ],
   "source": [
    "from langchain_community.chat_models import ChatOpenAI\n",
    "from langchain.chains import RetrievalQA\n",
    "from langchain_community.vectorstores import FAISS\n",
    "from langchain_community.embeddings import HuggingFaceEmbeddings\n",
    "\n",
    "embedding = HuggingFaceEmbeddings(model_name=\"sentence-transformers/all-MiniLM-L12-v2\")\n",
    "vectorstore = FAISS.load_local(\"../vectorstore\", embedding, index_name=\"madrid\", allow_dangerous_deserialization=True)\n",
    "retriever = vectorstore.as_retriever()\n",
    "\n",
    "llm = ChatOpenAI(model_name=\"gpt-3.5-turbo\", temperature=0)\n",
    "qa = RetrievalQA.from_chain_type(\n",
    "    llm=llm,\n",
    "    retriever=retriever,\n",
    "    return_source_documents=True\n",
    ")\n",
    "\n",
    "\n",
    "response = qa.invoke(\"Why are homes in Chamartín more expensive?\")\n",
    "print(\"🤖\", response[\"result\"])\n"
   ]
  }
 ],
 "metadata": {
  "kernelspec": {
   "display_name": "Python 3",
   "language": "python",
   "name": "python3"
  },
  "language_info": {
   "codemirror_mode": {
    "name": "ipython",
    "version": 3
   },
   "file_extension": ".py",
   "mimetype": "text/x-python",
   "name": "python",
   "nbconvert_exporter": "python",
   "pygments_lexer": "ipython3",
   "version": "3.11.5"
  }
 },
 "nbformat": 4,
 "nbformat_minor": 5
}
