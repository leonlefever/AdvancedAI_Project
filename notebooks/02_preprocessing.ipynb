{
 "cells": [
  {
   "cell_type": "markdown",
   "id": "5f60b042",
   "metadata": {},
   "source": [
    "# 02_preprocessing.ipynb\n",
    "## 1. Imports & Load Raw Data"
   ]
  },
  {
   "cell_type": "code",
   "execution_count": 13,
   "id": "ec4d9572",
   "metadata": {},
   "outputs": [],
   "source": [
    "import pandas as pd\n",
    "import numpy as np\n",
    "from sklearn.impute import SimpleImputer\n",
    "from sklearn.preprocessing import OneHotEncoder, StandardScaler"
   ]
  },
  {
   "cell_type": "code",
   "execution_count": 14,
   "id": "aea41a08",
   "metadata": {},
   "outputs": [
    {
     "name": "stdout",
     "output_type": "stream",
     "text": [
      "Raw shape: (21742, 58)\n"
     ]
    },
    {
     "data": {
      "application/vnd.microsoft.datawrangler.viewer.v0+json": {
       "columns": [
        {
         "name": "index",
         "rawType": "int64",
         "type": "integer"
        },
        {
         "name": "Unnamed: 0",
         "rawType": "int64",
         "type": "integer"
        },
        {
         "name": "id",
         "rawType": "int64",
         "type": "integer"
        },
        {
         "name": "title",
         "rawType": "object",
         "type": "string"
        },
        {
         "name": "subtitle",
         "rawType": "object",
         "type": "string"
        },
        {
         "name": "sq_mt_built",
         "rawType": "float64",
         "type": "float"
        },
        {
         "name": "sq_mt_useful",
         "rawType": "float64",
         "type": "float"
        },
        {
         "name": "n_rooms",
         "rawType": "int64",
         "type": "integer"
        },
        {
         "name": "n_bathrooms",
         "rawType": "float64",
         "type": "float"
        },
        {
         "name": "n_floors",
         "rawType": "float64",
         "type": "float"
        },
        {
         "name": "sq_mt_allotment",
         "rawType": "float64",
         "type": "float"
        },
        {
         "name": "latitude",
         "rawType": "float64",
         "type": "float"
        },
        {
         "name": "longitude",
         "rawType": "float64",
         "type": "float"
        },
        {
         "name": "raw_address",
         "rawType": "object",
         "type": "string"
        },
        {
         "name": "is_exact_address_hidden",
         "rawType": "bool",
         "type": "boolean"
        },
        {
         "name": "street_name",
         "rawType": "object",
         "type": "string"
        },
        {
         "name": "street_number",
         "rawType": "object",
         "type": "unknown"
        },
        {
         "name": "portal",
         "rawType": "float64",
         "type": "float"
        },
        {
         "name": "floor",
         "rawType": "object",
         "type": "string"
        },
        {
         "name": "is_floor_under",
         "rawType": "object",
         "type": "unknown"
        },
        {
         "name": "door",
         "rawType": "float64",
         "type": "float"
        },
        {
         "name": "neighborhood_id",
         "rawType": "object",
         "type": "string"
        },
        {
         "name": "operation",
         "rawType": "object",
         "type": "string"
        },
        {
         "name": "rent_price",
         "rawType": "int64",
         "type": "integer"
        },
        {
         "name": "rent_price_by_area",
         "rawType": "float64",
         "type": "float"
        },
        {
         "name": "is_rent_price_known",
         "rawType": "bool",
         "type": "boolean"
        },
        {
         "name": "buy_price",
         "rawType": "int64",
         "type": "integer"
        },
        {
         "name": "buy_price_by_area",
         "rawType": "int64",
         "type": "integer"
        },
        {
         "name": "is_buy_price_known",
         "rawType": "bool",
         "type": "boolean"
        },
        {
         "name": "house_type_id",
         "rawType": "object",
         "type": "string"
        },
        {
         "name": "is_renewal_needed",
         "rawType": "bool",
         "type": "boolean"
        },
        {
         "name": "is_new_development",
         "rawType": "object",
         "type": "unknown"
        },
        {
         "name": "built_year",
         "rawType": "float64",
         "type": "float"
        },
        {
         "name": "has_central_heating",
         "rawType": "object",
         "type": "unknown"
        },
        {
         "name": "has_individual_heating",
         "rawType": "object",
         "type": "unknown"
        },
        {
         "name": "are_pets_allowed",
         "rawType": "float64",
         "type": "float"
        },
        {
         "name": "has_ac",
         "rawType": "object",
         "type": "unknown"
        },
        {
         "name": "has_fitted_wardrobes",
         "rawType": "object",
         "type": "unknown"
        },
        {
         "name": "has_lift",
         "rawType": "object",
         "type": "unknown"
        },
        {
         "name": "is_exterior",
         "rawType": "object",
         "type": "unknown"
        },
        {
         "name": "has_garden",
         "rawType": "object",
         "type": "unknown"
        },
        {
         "name": "has_pool",
         "rawType": "object",
         "type": "unknown"
        },
        {
         "name": "has_terrace",
         "rawType": "object",
         "type": "unknown"
        },
        {
         "name": "has_balcony",
         "rawType": "object",
         "type": "unknown"
        },
        {
         "name": "has_storage_room",
         "rawType": "object",
         "type": "unknown"
        },
        {
         "name": "is_furnished",
         "rawType": "float64",
         "type": "float"
        },
        {
         "name": "is_kitchen_equipped",
         "rawType": "float64",
         "type": "float"
        },
        {
         "name": "is_accessible",
         "rawType": "object",
         "type": "unknown"
        },
        {
         "name": "has_green_zones",
         "rawType": "object",
         "type": "unknown"
        },
        {
         "name": "energy_certificate",
         "rawType": "object",
         "type": "string"
        },
        {
         "name": "has_parking",
         "rawType": "bool",
         "type": "boolean"
        },
        {
         "name": "has_private_parking",
         "rawType": "float64",
         "type": "float"
        },
        {
         "name": "has_public_parking",
         "rawType": "float64",
         "type": "float"
        },
        {
         "name": "is_parking_included_in_price",
         "rawType": "object",
         "type": "unknown"
        },
        {
         "name": "parking_price",
         "rawType": "float64",
         "type": "float"
        },
        {
         "name": "is_orientation_north",
         "rawType": "object",
         "type": "unknown"
        },
        {
         "name": "is_orientation_west",
         "rawType": "object",
         "type": "unknown"
        },
        {
         "name": "is_orientation_south",
         "rawType": "object",
         "type": "unknown"
        },
        {
         "name": "is_orientation_east",
         "rawType": "object",
         "type": "unknown"
        }
       ],
       "ref": "a9315045-015d-4761-9001-45e825797468",
       "rows": [
        [
         "0",
         "0",
         "21742",
         "Piso en venta en calle de Godella, 64",
         "San Cristóbal, Madrid",
         "64.0",
         "60.0",
         "2",
         "1.0",
         null,
         null,
         null,
         null,
         "Calle de Godella, 64",
         "False",
         "Calle de Godella",
         "64",
         null,
         "3",
         "False",
         null,
         "Neighborhood 135: San Cristóbal (1308.89 €/m2) - District 21: Villaverde",
         "sale",
         "471",
         null,
         "False",
         "85000",
         "1328",
         "True",
         "HouseType 1: Pisos",
         "False",
         "False",
         "1960.0",
         null,
         null,
         null,
         "True",
         null,
         "False",
         "True",
         null,
         null,
         null,
         null,
         null,
         null,
         null,
         null,
         null,
         "D",
         "False",
         null,
         null,
         null,
         null,
         "False",
         "True",
         "False",
         "False"
        ],
        [
         "1",
         "1",
         "21741",
         "Piso en venta en calle de la del Manojo de Rosas",
         "Los Ángeles, Madrid",
         "70.0",
         null,
         "3",
         "1.0",
         null,
         null,
         null,
         null,
         "Calle de la del Manojo de Rosas",
         "True",
         "Calle de la del Manojo de Rosas",
         null,
         null,
         "4",
         "False",
         null,
         "Neighborhood 132: Los Ángeles (1796.68 €/m2) - District 21: Villaverde",
         "sale",
         "666",
         null,
         "False",
         "129900",
         "1856",
         "True",
         "HouseType 1: Pisos",
         "True",
         "False",
         null,
         null,
         null,
         null,
         null,
         "True",
         "True",
         "True",
         null,
         null,
         "True",
         null,
         null,
         null,
         null,
         null,
         null,
         "en trámite",
         "False",
         null,
         null,
         null,
         null,
         null,
         null,
         null,
         null
        ],
        [
         "2",
         "2",
         "21740",
         "Piso en venta en calle del Talco, 68",
         "San Andrés, Madrid",
         "94.0",
         "54.0",
         "2",
         "2.0",
         null,
         null,
         null,
         null,
         "Calle del Talco, 68",
         "False",
         "Calle del Talco",
         "68",
         null,
         "1",
         "False",
         null,
         "Neighborhood 134: San Andrés (1617.18 €/m2) - District 21: Villaverde",
         "sale",
         "722",
         null,
         "False",
         "144247",
         "1535",
         "True",
         "HouseType 1: Pisos",
         "False",
         "False",
         null,
         "False",
         "True",
         null,
         null,
         "True",
         "True",
         "True",
         null,
         null,
         null,
         null,
         "True",
         null,
         null,
         null,
         null,
         "no indicado",
         "False",
         null,
         null,
         null,
         null,
         null,
         null,
         null,
         null
        ],
        [
         "3",
         "3",
         "21739",
         "Piso en venta en calle Pedro Jiménez",
         "San Andrés, Madrid",
         "64.0",
         null,
         "2",
         "1.0",
         null,
         null,
         null,
         null,
         "Calle Pedro Jiménez",
         "True",
         "Calle Pedro Jiménez",
         null,
         null,
         "Bajo",
         "True",
         null,
         "Neighborhood 134: San Andrés (1617.18 €/m2) - District 21: Villaverde",
         "sale",
         "583",
         null,
         "False",
         "109900",
         "1717",
         "True",
         "HouseType 1: Pisos",
         "False",
         "False",
         "1955.0",
         null,
         null,
         null,
         null,
         null,
         "True",
         "True",
         null,
         null,
         null,
         null,
         "True",
         null,
         null,
         "True",
         null,
         "en trámite",
         "False",
         null,
         null,
         null,
         null,
         "False",
         "False",
         "True",
         "False"
        ],
        [
         "4",
         "4",
         "21738",
         "Piso en venta en carretera de Villaverde a Vallecas",
         "Los Rosales, Madrid",
         "108.0",
         "90.0",
         "2",
         "2.0",
         null,
         null,
         null,
         null,
         "Carretera de Villaverde a Vallecas",
         "True",
         "Carretera de Villaverde a Vallecas",
         null,
         null,
         "4",
         "False",
         null,
         "Neighborhood 133: Los Rosales (1827.79 €/m2) - District 21: Villaverde",
         "sale",
         "1094",
         null,
         "False",
         "260000",
         "2407",
         "True",
         "HouseType 1: Pisos",
         "False",
         "False",
         "2003.0",
         null,
         null,
         null,
         "True",
         "True",
         "True",
         "True",
         null,
         "True",
         null,
         null,
         "True",
         null,
         null,
         null,
         "True",
         "en trámite",
         "True",
         null,
         null,
         "True",
         "0.0",
         "True",
         "True",
         "True",
         "True"
        ]
       ],
       "shape": {
        "columns": 58,
        "rows": 5
       }
      },
      "text/html": [
       "<div>\n",
       "<style scoped>\n",
       "    .dataframe tbody tr th:only-of-type {\n",
       "        vertical-align: middle;\n",
       "    }\n",
       "\n",
       "    .dataframe tbody tr th {\n",
       "        vertical-align: top;\n",
       "    }\n",
       "\n",
       "    .dataframe thead th {\n",
       "        text-align: right;\n",
       "    }\n",
       "</style>\n",
       "<table border=\"1\" class=\"dataframe\">\n",
       "  <thead>\n",
       "    <tr style=\"text-align: right;\">\n",
       "      <th></th>\n",
       "      <th>Unnamed: 0</th>\n",
       "      <th>id</th>\n",
       "      <th>title</th>\n",
       "      <th>subtitle</th>\n",
       "      <th>sq_mt_built</th>\n",
       "      <th>sq_mt_useful</th>\n",
       "      <th>n_rooms</th>\n",
       "      <th>n_bathrooms</th>\n",
       "      <th>n_floors</th>\n",
       "      <th>sq_mt_allotment</th>\n",
       "      <th>...</th>\n",
       "      <th>energy_certificate</th>\n",
       "      <th>has_parking</th>\n",
       "      <th>has_private_parking</th>\n",
       "      <th>has_public_parking</th>\n",
       "      <th>is_parking_included_in_price</th>\n",
       "      <th>parking_price</th>\n",
       "      <th>is_orientation_north</th>\n",
       "      <th>is_orientation_west</th>\n",
       "      <th>is_orientation_south</th>\n",
       "      <th>is_orientation_east</th>\n",
       "    </tr>\n",
       "  </thead>\n",
       "  <tbody>\n",
       "    <tr>\n",
       "      <th>0</th>\n",
       "      <td>0</td>\n",
       "      <td>21742</td>\n",
       "      <td>Piso en venta en calle de Godella, 64</td>\n",
       "      <td>San Cristóbal, Madrid</td>\n",
       "      <td>64.0</td>\n",
       "      <td>60.0</td>\n",
       "      <td>2</td>\n",
       "      <td>1.0</td>\n",
       "      <td>NaN</td>\n",
       "      <td>NaN</td>\n",
       "      <td>...</td>\n",
       "      <td>D</td>\n",
       "      <td>False</td>\n",
       "      <td>NaN</td>\n",
       "      <td>NaN</td>\n",
       "      <td>NaN</td>\n",
       "      <td>NaN</td>\n",
       "      <td>False</td>\n",
       "      <td>True</td>\n",
       "      <td>False</td>\n",
       "      <td>False</td>\n",
       "    </tr>\n",
       "    <tr>\n",
       "      <th>1</th>\n",
       "      <td>1</td>\n",
       "      <td>21741</td>\n",
       "      <td>Piso en venta en calle de la del Manojo de Rosas</td>\n",
       "      <td>Los Ángeles, Madrid</td>\n",
       "      <td>70.0</td>\n",
       "      <td>NaN</td>\n",
       "      <td>3</td>\n",
       "      <td>1.0</td>\n",
       "      <td>NaN</td>\n",
       "      <td>NaN</td>\n",
       "      <td>...</td>\n",
       "      <td>en trámite</td>\n",
       "      <td>False</td>\n",
       "      <td>NaN</td>\n",
       "      <td>NaN</td>\n",
       "      <td>NaN</td>\n",
       "      <td>NaN</td>\n",
       "      <td>NaN</td>\n",
       "      <td>NaN</td>\n",
       "      <td>NaN</td>\n",
       "      <td>NaN</td>\n",
       "    </tr>\n",
       "    <tr>\n",
       "      <th>2</th>\n",
       "      <td>2</td>\n",
       "      <td>21740</td>\n",
       "      <td>Piso en venta en calle del Talco, 68</td>\n",
       "      <td>San Andrés, Madrid</td>\n",
       "      <td>94.0</td>\n",
       "      <td>54.0</td>\n",
       "      <td>2</td>\n",
       "      <td>2.0</td>\n",
       "      <td>NaN</td>\n",
       "      <td>NaN</td>\n",
       "      <td>...</td>\n",
       "      <td>no indicado</td>\n",
       "      <td>False</td>\n",
       "      <td>NaN</td>\n",
       "      <td>NaN</td>\n",
       "      <td>NaN</td>\n",
       "      <td>NaN</td>\n",
       "      <td>NaN</td>\n",
       "      <td>NaN</td>\n",
       "      <td>NaN</td>\n",
       "      <td>NaN</td>\n",
       "    </tr>\n",
       "    <tr>\n",
       "      <th>3</th>\n",
       "      <td>3</td>\n",
       "      <td>21739</td>\n",
       "      <td>Piso en venta en calle Pedro Jiménez</td>\n",
       "      <td>San Andrés, Madrid</td>\n",
       "      <td>64.0</td>\n",
       "      <td>NaN</td>\n",
       "      <td>2</td>\n",
       "      <td>1.0</td>\n",
       "      <td>NaN</td>\n",
       "      <td>NaN</td>\n",
       "      <td>...</td>\n",
       "      <td>en trámite</td>\n",
       "      <td>False</td>\n",
       "      <td>NaN</td>\n",
       "      <td>NaN</td>\n",
       "      <td>NaN</td>\n",
       "      <td>NaN</td>\n",
       "      <td>False</td>\n",
       "      <td>False</td>\n",
       "      <td>True</td>\n",
       "      <td>False</td>\n",
       "    </tr>\n",
       "    <tr>\n",
       "      <th>4</th>\n",
       "      <td>4</td>\n",
       "      <td>21738</td>\n",
       "      <td>Piso en venta en carretera de Villaverde a Val...</td>\n",
       "      <td>Los Rosales, Madrid</td>\n",
       "      <td>108.0</td>\n",
       "      <td>90.0</td>\n",
       "      <td>2</td>\n",
       "      <td>2.0</td>\n",
       "      <td>NaN</td>\n",
       "      <td>NaN</td>\n",
       "      <td>...</td>\n",
       "      <td>en trámite</td>\n",
       "      <td>True</td>\n",
       "      <td>NaN</td>\n",
       "      <td>NaN</td>\n",
       "      <td>True</td>\n",
       "      <td>0.0</td>\n",
       "      <td>True</td>\n",
       "      <td>True</td>\n",
       "      <td>True</td>\n",
       "      <td>True</td>\n",
       "    </tr>\n",
       "  </tbody>\n",
       "</table>\n",
       "<p>5 rows × 58 columns</p>\n",
       "</div>"
      ],
      "text/plain": [
       "   Unnamed: 0     id                                              title  \\\n",
       "0           0  21742              Piso en venta en calle de Godella, 64   \n",
       "1           1  21741   Piso en venta en calle de la del Manojo de Rosas   \n",
       "2           2  21740               Piso en venta en calle del Talco, 68   \n",
       "3           3  21739               Piso en venta en calle Pedro Jiménez   \n",
       "4           4  21738  Piso en venta en carretera de Villaverde a Val...   \n",
       "\n",
       "                subtitle  sq_mt_built  sq_mt_useful  n_rooms  n_bathrooms  \\\n",
       "0  San Cristóbal, Madrid         64.0          60.0        2          1.0   \n",
       "1    Los Ángeles, Madrid         70.0           NaN        3          1.0   \n",
       "2     San Andrés, Madrid         94.0          54.0        2          2.0   \n",
       "3     San Andrés, Madrid         64.0           NaN        2          1.0   \n",
       "4    Los Rosales, Madrid        108.0          90.0        2          2.0   \n",
       "\n",
       "   n_floors  sq_mt_allotment  ...  energy_certificate  has_parking  \\\n",
       "0       NaN              NaN  ...                   D        False   \n",
       "1       NaN              NaN  ...          en trámite        False   \n",
       "2       NaN              NaN  ...         no indicado        False   \n",
       "3       NaN              NaN  ...          en trámite        False   \n",
       "4       NaN              NaN  ...          en trámite         True   \n",
       "\n",
       "  has_private_parking  has_public_parking is_parking_included_in_price  \\\n",
       "0                 NaN                 NaN                          NaN   \n",
       "1                 NaN                 NaN                          NaN   \n",
       "2                 NaN                 NaN                          NaN   \n",
       "3                 NaN                 NaN                          NaN   \n",
       "4                 NaN                 NaN                         True   \n",
       "\n",
       "  parking_price  is_orientation_north is_orientation_west  \\\n",
       "0           NaN                 False                True   \n",
       "1           NaN                   NaN                 NaN   \n",
       "2           NaN                   NaN                 NaN   \n",
       "3           NaN                 False               False   \n",
       "4           0.0                  True                True   \n",
       "\n",
       "  is_orientation_south  is_orientation_east  \n",
       "0                False                False  \n",
       "1                  NaN                  NaN  \n",
       "2                  NaN                  NaN  \n",
       "3                 True                False  \n",
       "4                 True                 True  \n",
       "\n",
       "[5 rows x 58 columns]"
      ]
     },
     "execution_count": 14,
     "metadata": {},
     "output_type": "execute_result"
    }
   ],
   "source": [
    "\n",
    "\n",
    "df = pd.read_csv(\"../archive/madrid_housing.csv\")\n",
    "print(\"Raw shape:\", df.shape)\n",
    "df.head()\n"
   ]
  },
  {
   "cell_type": "markdown",
   "id": "580f2624",
   "metadata": {},
   "source": [
    "## 2. handling missing values"
   ]
  },
  {
   "cell_type": "code",
   "execution_count": 15,
   "id": "d1d1ad06",
   "metadata": {},
   "outputs": [
    {
     "data": {
      "application/vnd.microsoft.datawrangler.viewer.v0+json": {
       "columns": [
        {
         "name": "index",
         "rawType": "object",
         "type": "string"
        },
        {
         "name": "0",
         "rawType": "float64",
         "type": "float"
        }
       ],
       "ref": "8f030773-c009-4e3c-afd3-f5e3e1033c11",
       "rows": [
        [
         "has_private_parking",
         "100.0"
        ],
        [
         "door",
         "100.0"
        ],
        [
         "portal",
         "100.0"
        ],
        [
         "is_furnished",
         "100.0"
        ],
        [
         "rent_price_by_area",
         "100.0"
        ],
        [
         "longitude",
         "100.0"
        ],
        [
         "latitude",
         "100.0"
        ],
        [
         "has_public_parking",
         "100.0"
        ],
        [
         "is_kitchen_equipped",
         "100.0"
        ],
        [
         "are_pets_allowed",
         "100.0"
        ],
        [
         "sq_mt_allotment",
         "93.41366939563977"
        ],
        [
         "n_floors",
         "93.39067243123907"
        ],
        [
         "has_garden",
         "92.84334467850243"
        ],
        [
         "has_balcony",
         "84.72541624505565"
        ],
        [
         "has_green_zones",
         "81.34026308527275"
        ],
        [
         "is_accessible",
         "81.26207340631036"
        ],
        [
         "has_pool",
         "76.21653941679698"
        ],
        [
         "street_number",
         "71.02382485511912"
        ],
        [
         "has_storage_room",
         "64.59387360868365"
        ],
        [
         "parking_price",
         "64.49728635820072"
        ]
       ],
       "shape": {
        "columns": 1,
        "rows": 20
       }
      },
      "text/plain": [
       "has_private_parking    100.000000\n",
       "door                   100.000000\n",
       "portal                 100.000000\n",
       "is_furnished           100.000000\n",
       "rent_price_by_area     100.000000\n",
       "longitude              100.000000\n",
       "latitude               100.000000\n",
       "has_public_parking     100.000000\n",
       "is_kitchen_equipped    100.000000\n",
       "are_pets_allowed       100.000000\n",
       "sq_mt_allotment         93.413669\n",
       "n_floors                93.390672\n",
       "has_garden              92.843345\n",
       "has_balcony             84.725416\n",
       "has_green_zones         81.340263\n",
       "is_accessible           81.262073\n",
       "has_pool                76.216539\n",
       "street_number           71.023825\n",
       "has_storage_room        64.593874\n",
       "parking_price           64.497286\n",
       "dtype: float64"
      ]
     },
     "metadata": {},
     "output_type": "display_data"
    },
    {
     "name": "stdout",
     "output_type": "stream",
     "text": [
      "Cols >80 % missing: 16\n"
     ]
    }
   ],
   "source": [
    "\n",
    "missing_pct = df.isnull().mean().mul(100).sort_values(ascending=False)\n",
    "\n",
    "\n",
    "display(missing_pct.head(20))          # 20 worst columns\n",
    "print(\"Cols >80 % missing:\", (missing_pct > 80).sum())\n"
   ]
  },
  {
   "cell_type": "code",
   "execution_count": 16,
   "id": "22f17b1c",
   "metadata": {},
   "outputs": [
    {
     "name": "stdout",
     "output_type": "stream",
     "text": [
      "After col-drop: (21742, 42)\n",
      "After row-drop: (21707, 42)\n"
     ]
    }
   ],
   "source": [
    "# Drop columns >80 % missing\n",
    "cols_drop = missing_pct[missing_pct > 80].index.tolist()\n",
    "df = df.drop(columns=cols_drop)\n",
    "print(\"After col-drop:\", df.shape)\n",
    "\n",
    "# Drop rows with >50 % missing in remaining columns\n",
    "row_thresh = df.shape[1] / 2\n",
    "df = df[df.isnull().sum(axis=1) <= row_thresh].copy()\n",
    "print(\"After row-drop:\", df.shape)\n"
   ]
  },
  {
   "cell_type": "code",
   "execution_count": 17,
   "id": "29894930",
   "metadata": {},
   "outputs": [
    {
     "name": "stdout",
     "output_type": "stream",
     "text": [
      "After address drops: (21707, 40)\n"
     ]
    }
   ],
   "source": [
    "drop_cols = [\"street_name\", \"street_number\"]\n",
    "df = df.drop(columns=drop_cols)\n",
    "print(\"After address drops:\", df.shape)"
   ]
  },
  {
   "cell_type": "code",
   "execution_count": 18,
   "id": "2abc4862",
   "metadata": {},
   "outputs": [
    {
     "name": "stdout",
     "output_type": "stream",
     "text": [
      "Remaining NaNs: raw_address           5430\n",
      "is_exterior           3008\n",
      "has_lift              2360\n",
      "is_floor_under        1136\n",
      "is_new_development     965\n",
      "dtype: int64\n"
     ]
    },
    {
     "name": "stderr",
     "output_type": "stream",
     "text": [
      "C:\\Users\\Leon\\AppData\\Local\\Temp\\ipykernel_14280\\3079625907.py:38: FutureWarning: Downcasting object dtype arrays on .fillna, .ffill, .bfill is deprecated and will change in a future version. Call result.infer_objects(copy=False) instead. To opt-in to the future behavior, set `pd.set_option('future.no_silent_downcasting', True)`\n",
      "  df[col] = df[col].fillna(False)\n",
      "C:\\Users\\Leon\\AppData\\Local\\Temp\\ipykernel_14280\\3079625907.py:38: FutureWarning: Downcasting object dtype arrays on .fillna, .ffill, .bfill is deprecated and will change in a future version. Call result.infer_objects(copy=False) instead. To opt-in to the future behavior, set `pd.set_option('future.no_silent_downcasting', True)`\n",
      "  df[col] = df[col].fillna(False)\n",
      "C:\\Users\\Leon\\AppData\\Local\\Temp\\ipykernel_14280\\3079625907.py:38: FutureWarning: Downcasting object dtype arrays on .fillna, .ffill, .bfill is deprecated and will change in a future version. Call result.infer_objects(copy=False) instead. To opt-in to the future behavior, set `pd.set_option('future.no_silent_downcasting', True)`\n",
      "  df[col] = df[col].fillna(False)\n",
      "C:\\Users\\Leon\\AppData\\Local\\Temp\\ipykernel_14280\\3079625907.py:38: FutureWarning: Downcasting object dtype arrays on .fillna, .ffill, .bfill is deprecated and will change in a future version. Call result.infer_objects(copy=False) instead. To opt-in to the future behavior, set `pd.set_option('future.no_silent_downcasting', True)`\n",
      "  df[col] = df[col].fillna(False)\n",
      "C:\\Users\\Leon\\AppData\\Local\\Temp\\ipykernel_14280\\3079625907.py:38: FutureWarning: Downcasting object dtype arrays on .fillna, .ffill, .bfill is deprecated and will change in a future version. Call result.infer_objects(copy=False) instead. To opt-in to the future behavior, set `pd.set_option('future.no_silent_downcasting', True)`\n",
      "  df[col] = df[col].fillna(False)\n",
      "C:\\Users\\Leon\\AppData\\Local\\Temp\\ipykernel_14280\\3079625907.py:38: FutureWarning: Downcasting object dtype arrays on .fillna, .ffill, .bfill is deprecated and will change in a future version. Call result.infer_objects(copy=False) instead. To opt-in to the future behavior, set `pd.set_option('future.no_silent_downcasting', True)`\n",
      "  df[col] = df[col].fillna(False)\n",
      "C:\\Users\\Leon\\AppData\\Local\\Temp\\ipykernel_14280\\3079625907.py:38: FutureWarning: Downcasting object dtype arrays on .fillna, .ffill, .bfill is deprecated and will change in a future version. Call result.infer_objects(copy=False) instead. To opt-in to the future behavior, set `pd.set_option('future.no_silent_downcasting', True)`\n",
      "  df[col] = df[col].fillna(False)\n",
      "C:\\Users\\Leon\\AppData\\Local\\Temp\\ipykernel_14280\\3079625907.py:38: FutureWarning: Downcasting object dtype arrays on .fillna, .ffill, .bfill is deprecated and will change in a future version. Call result.infer_objects(copy=False) instead. To opt-in to the future behavior, set `pd.set_option('future.no_silent_downcasting', True)`\n",
      "  df[col] = df[col].fillna(False)\n",
      "C:\\Users\\Leon\\AppData\\Local\\Temp\\ipykernel_14280\\3079625907.py:38: FutureWarning: Downcasting object dtype arrays on .fillna, .ffill, .bfill is deprecated and will change in a future version. Call result.infer_objects(copy=False) instead. To opt-in to the future behavior, set `pd.set_option('future.no_silent_downcasting', True)`\n",
      "  df[col] = df[col].fillna(False)\n",
      "C:\\Users\\Leon\\AppData\\Local\\Temp\\ipykernel_14280\\3079625907.py:38: FutureWarning: Downcasting object dtype arrays on .fillna, .ffill, .bfill is deprecated and will change in a future version. Call result.infer_objects(copy=False) instead. To opt-in to the future behavior, set `pd.set_option('future.no_silent_downcasting', True)`\n",
      "  df[col] = df[col].fillna(False)\n",
      "C:\\Users\\Leon\\AppData\\Local\\Temp\\ipykernel_14280\\3079625907.py:38: FutureWarning: Downcasting object dtype arrays on .fillna, .ffill, .bfill is deprecated and will change in a future version. Call result.infer_objects(copy=False) instead. To opt-in to the future behavior, set `pd.set_option('future.no_silent_downcasting', True)`\n",
      "  df[col] = df[col].fillna(False)\n",
      "C:\\Users\\Leon\\AppData\\Local\\Temp\\ipykernel_14280\\3079625907.py:38: FutureWarning: Downcasting object dtype arrays on .fillna, .ffill, .bfill is deprecated and will change in a future version. Call result.infer_objects(copy=False) instead. To opt-in to the future behavior, set `pd.set_option('future.no_silent_downcasting', True)`\n",
      "  df[col] = df[col].fillna(False)\n"
     ]
    }
   ],
   "source": [
    "from sklearn.impute import SimpleImputer\n",
    "import numpy as np\n",
    "\n",
    "# sq_mt_useful \n",
    "def impute_useful(df):\n",
    "    median_by_rooms = df.groupby(\"n_rooms\")[\"sq_mt_useful\"].transform(\"median\")\n",
    "    global_median   = df[\"sq_mt_useful\"].median()\n",
    "    df[\"sq_mt_useful\"] = df[\"sq_mt_useful\"].fillna(median_by_rooms).fillna(global_median)\n",
    "    return df\n",
    "df = impute_useful(df)\n",
    "\n",
    "# floor \n",
    "mode_floor_by_sub = (\n",
    "    df.groupby(\"subtitle\")[\"floor\"]\n",
    "      .agg(lambda s: s.mode().iat[0] if not s.mode().empty else np.nan)\n",
    ")\n",
    "df[\"floor\"] = df.apply(\n",
    "    lambda row: mode_floor_by_sub[row[\"subtitle\"]]\n",
    "                if pd.isna(row[\"floor\"]) else row[\"floor\"],\n",
    "    axis=1\n",
    ")\n",
    "df[\"floor\"] = df[\"floor\"].fillna(df[\"floor\"].mode()[0])\n",
    "\n",
    "# built_year\n",
    "med_by_sub = df.groupby(\"subtitle\")[\"built_year\"].transform(\"median\")\n",
    "df[\"built_year\"] = df[\"built_year\"].fillna(med_by_sub).fillna(df[\"built_year\"].median())\n",
    "\n",
    "bool_cols = [\n",
    "    \"has_central_heating\",\"has_individual_heating\",\n",
    "    \"has_ac\",\"has_fitted_wardrobes\",\"has_pool\",\n",
    "    \"has_terrace\",\"has_storage_room\",\n",
    "    \"is_parking_included_in_price\",\n",
    "    \"is_orientation_north\",\"is_orientation_west\",\n",
    "    \"is_orientation_south\",\"is_orientation_east\"\n",
    "]\n",
    "for col in bool_cols:\n",
    "    df[col + \"_was_missing\"] = df[col].isna()     # flag\n",
    "    df[col] = df[col].fillna(False)\n",
    "\n",
    "# parking_price \n",
    "df.loc[df[\"is_parking_included_in_price\"], \"parking_price\"] = 0\n",
    "df[\"parking_price\"] = df[\"parking_price\"].fillna(0)\n",
    "\n",
    "\n",
    "print(\"Remaining NaNs:\", df.isnull().sum().sort_values(ascending=False).head())\n"
   ]
  },
  {
   "cell_type": "code",
   "execution_count": 19,
   "id": "7607dcdc",
   "metadata": {},
   "outputs": [
    {
     "name": "stdout",
     "output_type": "stream",
     "text": [
      "Any NaNs left? True\n"
     ]
    },
    {
     "name": "stderr",
     "output_type": "stream",
     "text": [
      "C:\\Users\\Leon\\AppData\\Local\\Temp\\ipykernel_14280\\1652675904.py:8: FutureWarning: Downcasting object dtype arrays on .fillna, .ffill, .bfill is deprecated and will change in a future version. Call result.infer_objects(copy=False) instead. To opt-in to the future behavior, set `pd.set_option('future.no_silent_downcasting', True)`\n",
      "  df[col] = df[col].fillna(False)\n",
      "C:\\Users\\Leon\\AppData\\Local\\Temp\\ipykernel_14280\\1652675904.py:8: FutureWarning: Downcasting object dtype arrays on .fillna, .ffill, .bfill is deprecated and will change in a future version. Call result.infer_objects(copy=False) instead. To opt-in to the future behavior, set `pd.set_option('future.no_silent_downcasting', True)`\n",
      "  df[col] = df[col].fillna(False)\n",
      "C:\\Users\\Leon\\AppData\\Local\\Temp\\ipykernel_14280\\1652675904.py:8: FutureWarning: Downcasting object dtype arrays on .fillna, .ffill, .bfill is deprecated and will change in a future version. Call result.infer_objects(copy=False) instead. To opt-in to the future behavior, set `pd.set_option('future.no_silent_downcasting', True)`\n",
      "  df[col] = df[col].fillna(False)\n",
      "C:\\Users\\Leon\\AppData\\Local\\Temp\\ipykernel_14280\\1652675904.py:8: FutureWarning: Downcasting object dtype arrays on .fillna, .ffill, .bfill is deprecated and will change in a future version. Call result.infer_objects(copy=False) instead. To opt-in to the future behavior, set `pd.set_option('future.no_silent_downcasting', True)`\n",
      "  df[col] = df[col].fillna(False)\n"
     ]
    }
   ],
   "source": [
    "\n",
    "df[\"raw_address\"] = df[\"raw_address\"].fillna(\"missing\")\n",
    "\n",
    "\n",
    "bool_cols_remaining = [\"is_exterior\", \"has_lift\", \"is_floor_under\", \"is_new_development\"]\n",
    "\n",
    "for col in bool_cols_remaining:\n",
    "    df[col + \"_was_missing\"] = df[col].isna()   # optional flag\n",
    "    df[col] = df[col].fillna(False)\n",
    "\n",
    "\n",
    "print(\"Any NaNs left?\", df.isnull().any().any())\n"
   ]
  },
  {
   "cell_type": "code",
   "execution_count": 20,
   "id": "ca7120ec",
   "metadata": {},
   "outputs": [
    {
     "name": "stdout",
     "output_type": "stream",
     "text": [
      "Columns still containing NaNs:\n"
     ]
    },
    {
     "data": {
      "application/vnd.microsoft.datawrangler.viewer.v0+json": {
       "columns": [
        {
         "name": "index",
         "rawType": "object",
         "type": "string"
        },
        {
         "name": "0",
         "rawType": "float64",
         "type": "float"
        }
       ],
       "ref": "e5c839d2-18ed-459b-b05a-693328ec5783",
       "rows": [
        [
         "house_type_id",
         "1.801262265628599"
        ],
        [
         "sq_mt_built",
         "0.5666374902105311"
        ],
        [
         "n_bathrooms",
         "0.07370894181600406"
        ]
       ],
       "shape": {
        "columns": 1,
        "rows": 3
       }
      },
      "text/plain": [
       "house_type_id    1.801262\n",
       "sq_mt_built      0.566637\n",
       "n_bathrooms      0.073709\n",
       "dtype: float64"
      ]
     },
     "metadata": {},
     "output_type": "display_data"
    }
   ],
   "source": [
    "# Show columns that have more than 1 null value %\n",
    "null_summary = (\n",
    "    df.isnull().mean()\n",
    "      .mul(100)\n",
    "      .loc[lambda s: s > 0]\n",
    "      .sort_values(ascending=False)\n",
    ")\n",
    "\n",
    "print(\"Columns still containing NaNs:\")\n",
    "display(null_summary)\n"
   ]
  },
  {
   "cell_type": "code",
   "execution_count": 21,
   "id": "866de14f",
   "metadata": {},
   "outputs": [
    {
     "name": "stdout",
     "output_type": "stream",
     "text": [
      "Any NaNs left? -> False\n"
     ]
    }
   ],
   "source": [
    "# house_type_id  (categorical string)\n",
    "df[\"house_type_id_was_missing\"] = df[\"house_type_id\"].isna()\n",
    "mode_house_type = df[\"house_type_id\"].mode()[0]\n",
    "df[\"house_type_id\"] = (\n",
    "    df[\"house_type_id\"]\n",
    "      .fillna(mode_house_type)\n",
    "      .astype(\"category\")        # cast to pandas category, not int\n",
    ")\n",
    "\n",
    "# sq_mt_built  (numeric)\n",
    "df[\"sq_mt_built\"] = df[\"sq_mt_built\"].fillna(df[\"sq_mt_built\"].median())\n",
    "\n",
    "# n_bathrooms  (numeric)\n",
    "df[\"n_bathrooms\"] = df[\"n_bathrooms\"].fillna(df[\"n_bathrooms\"].median())\n",
    "\n",
    "# Sanity check\n",
    "print(\"Any NaNs left? ->\", df.isnull().any().any())\n"
   ]
  },
  {
   "cell_type": "code",
   "execution_count": 22,
   "id": "b52beaa3",
   "metadata": {},
   "outputs": [
    {
     "name": "stdout",
     "output_type": "stream",
     "text": [
      "End shape : (21707, 63)\n"
     ]
    },
    {
     "data": {
      "application/vnd.microsoft.datawrangler.viewer.v0+json": {
       "columns": [
        {
         "name": "index",
         "rawType": "int64",
         "type": "integer"
        },
        {
         "name": "title",
         "rawType": "object",
         "type": "string"
        },
        {
         "name": "subtitle",
         "rawType": "object",
         "type": "string"
        },
        {
         "name": "sq_mt_built",
         "rawType": "float64",
         "type": "float"
        },
        {
         "name": "sq_mt_useful",
         "rawType": "float64",
         "type": "float"
        },
        {
         "name": "n_rooms",
         "rawType": "int64",
         "type": "integer"
        },
        {
         "name": "n_bathrooms",
         "rawType": "float64",
         "type": "float"
        },
        {
         "name": "raw_address",
         "rawType": "object",
         "type": "string"
        },
        {
         "name": "is_exact_address_hidden",
         "rawType": "bool",
         "type": "boolean"
        },
        {
         "name": "floor",
         "rawType": "object",
         "type": "string"
        },
        {
         "name": "is_floor_under",
         "rawType": "bool",
         "type": "boolean"
        },
        {
         "name": "neighborhood_id",
         "rawType": "object",
         "type": "string"
        },
        {
         "name": "operation",
         "rawType": "object",
         "type": "string"
        },
        {
         "name": "rent_price",
         "rawType": "int64",
         "type": "integer"
        },
        {
         "name": "is_rent_price_known",
         "rawType": "bool",
         "type": "boolean"
        },
        {
         "name": "buy_price",
         "rawType": "int64",
         "type": "integer"
        },
        {
         "name": "buy_price_by_area",
         "rawType": "int64",
         "type": "integer"
        },
        {
         "name": "is_buy_price_known",
         "rawType": "bool",
         "type": "boolean"
        },
        {
         "name": "house_type_id",
         "rawType": "category",
         "type": "unknown"
        },
        {
         "name": "is_renewal_needed",
         "rawType": "bool",
         "type": "boolean"
        },
        {
         "name": "is_new_development",
         "rawType": "bool",
         "type": "boolean"
        },
        {
         "name": "built_year",
         "rawType": "float64",
         "type": "float"
        },
        {
         "name": "has_central_heating",
         "rawType": "bool",
         "type": "boolean"
        },
        {
         "name": "has_individual_heating",
         "rawType": "bool",
         "type": "boolean"
        },
        {
         "name": "has_ac",
         "rawType": "bool",
         "type": "boolean"
        },
        {
         "name": "has_fitted_wardrobes",
         "rawType": "bool",
         "type": "boolean"
        },
        {
         "name": "has_lift",
         "rawType": "bool",
         "type": "boolean"
        },
        {
         "name": "is_exterior",
         "rawType": "bool",
         "type": "boolean"
        },
        {
         "name": "has_pool",
         "rawType": "bool",
         "type": "boolean"
        },
        {
         "name": "has_terrace",
         "rawType": "bool",
         "type": "boolean"
        },
        {
         "name": "has_storage_room",
         "rawType": "bool",
         "type": "boolean"
        },
        {
         "name": "energy_certificate",
         "rawType": "object",
         "type": "string"
        },
        {
         "name": "has_parking",
         "rawType": "bool",
         "type": "boolean"
        },
        {
         "name": "is_parking_included_in_price",
         "rawType": "bool",
         "type": "boolean"
        },
        {
         "name": "parking_price",
         "rawType": "float64",
         "type": "float"
        },
        {
         "name": "is_orientation_north",
         "rawType": "bool",
         "type": "boolean"
        },
        {
         "name": "is_orientation_west",
         "rawType": "bool",
         "type": "boolean"
        },
        {
         "name": "is_orientation_south",
         "rawType": "bool",
         "type": "boolean"
        },
        {
         "name": "is_orientation_east",
         "rawType": "bool",
         "type": "boolean"
        },
        {
         "name": "has_central_heating_was_missing",
         "rawType": "bool",
         "type": "boolean"
        },
        {
         "name": "has_individual_heating_was_missing",
         "rawType": "bool",
         "type": "boolean"
        },
        {
         "name": "has_ac_was_missing",
         "rawType": "bool",
         "type": "boolean"
        },
        {
         "name": "has_fitted_wardrobes_was_missing",
         "rawType": "bool",
         "type": "boolean"
        },
        {
         "name": "has_pool_was_missing",
         "rawType": "bool",
         "type": "boolean"
        },
        {
         "name": "has_terrace_was_missing",
         "rawType": "bool",
         "type": "boolean"
        },
        {
         "name": "has_storage_room_was_missing",
         "rawType": "bool",
         "type": "boolean"
        },
        {
         "name": "is_parking_included_in_price_was_missing",
         "rawType": "bool",
         "type": "boolean"
        },
        {
         "name": "is_orientation_north_was_missing",
         "rawType": "bool",
         "type": "boolean"
        },
        {
         "name": "is_orientation_west_was_missing",
         "rawType": "bool",
         "type": "boolean"
        },
        {
         "name": "is_orientation_south_was_missing",
         "rawType": "bool",
         "type": "boolean"
        },
        {
         "name": "is_orientation_east_was_missing",
         "rawType": "bool",
         "type": "boolean"
        },
        {
         "name": "is_exterior_was_missing",
         "rawType": "bool",
         "type": "boolean"
        },
        {
         "name": "has_lift_was_missing",
         "rawType": "bool",
         "type": "boolean"
        },
        {
         "name": "is_floor_under_was_missing",
         "rawType": "bool",
         "type": "boolean"
        },
        {
         "name": "is_new_development_was_missing",
         "rawType": "bool",
         "type": "boolean"
        },
        {
         "name": "house_type_id_was_missing",
         "rawType": "bool",
         "type": "boolean"
        },
        {
         "name": "has_rent_price",
         "rawType": "bool",
         "type": "boolean"
        },
        {
         "name": "built_year_clipped",
         "rawType": "float64",
         "type": "float"
        },
        {
         "name": "price_per_m2",
         "rawType": "float64",
         "type": "float"
        },
        {
         "name": "building_age",
         "rawType": "float64",
         "type": "float"
        },
        {
         "name": "log_buy_price",
         "rawType": "float64",
         "type": "float"
        },
        {
         "name": "log_sq_mt_built",
         "rawType": "float64",
         "type": "float"
        },
        {
         "name": "log_sq_mt_useful",
         "rawType": "float64",
         "type": "float"
        },
        {
         "name": "log_price_per_m2",
         "rawType": "float64",
         "type": "float"
        }
       ],
       "ref": "e539c5a7-bf86-4a6b-bfa1-0e48a643e408",
       "rows": [
        [
         "0",
         "Piso en venta en calle de Godella, 64",
         "San Cristóbal, Madrid",
         "64.0",
         "60.0",
         "2",
         "1.0",
         "Calle de Godella, 64",
         "False",
         "3",
         "False",
         "Neighborhood 135: San Cristóbal (1308.89 €/m2) - District 21: Villaverde",
         "sale",
         "0",
         "False",
         "85000",
         "1328",
         "True",
         "HouseType 1: Pisos",
         "False",
         "False",
         "1960.0",
         "False",
         "False",
         "True",
         "False",
         "False",
         "True",
         "False",
         "False",
         "False",
         "D",
         "False",
         "False",
         "0.0",
         "False",
         "True",
         "False",
         "False",
         "True",
         "True",
         "False",
         "True",
         "True",
         "True",
         "True",
         "True",
         "False",
         "False",
         "False",
         "False",
         "False",
         "False",
         "False",
         "False",
         "False",
         "False",
         "1960.0",
         "1328.125",
         "65.0",
         "11.350418300109132",
         "4.174387269895637",
         "4.110873864173311",
         "7.19227610997125"
        ],
        [
         "1",
         "Piso en venta en calle de la del Manojo de Rosas",
         "Los Ángeles, Madrid",
         "70.0",
         "82.0",
         "3",
         "1.0",
         "Calle de la del Manojo de Rosas",
         "True",
         "4",
         "False",
         "Neighborhood 132: Los Ángeles (1796.68 €/m2) - District 21: Villaverde",
         "sale",
         "0",
         "False",
         "129900",
         "1856",
         "True",
         "HouseType 1: Pisos",
         "True",
         "False",
         "1970.0",
         "False",
         "False",
         "False",
         "True",
         "True",
         "True",
         "False",
         "True",
         "False",
         "en trámite",
         "False",
         "False",
         "0.0",
         "False",
         "False",
         "False",
         "False",
         "True",
         "True",
         "True",
         "False",
         "True",
         "False",
         "True",
         "True",
         "True",
         "True",
         "True",
         "True",
         "False",
         "False",
         "False",
         "False",
         "False",
         "False",
         "1970.0",
         "1855.7142857142858",
         "55.0",
         "11.774527900858468",
         "4.2626798770413155",
         "4.418840607796598",
         "7.526563691526275"
        ],
        [
         "2",
         "Piso en venta en calle del Talco, 68",
         "San Andrés, Madrid",
         "94.0",
         "54.0",
         "2",
         "2.0",
         "Calle del Talco, 68",
         "False",
         "1",
         "False",
         "Neighborhood 134: San Andrés (1617.18 €/m2) - District 21: Villaverde",
         "sale",
         "0",
         "False",
         "144247",
         "1535",
         "True",
         "HouseType 1: Pisos",
         "False",
         "False",
         "1974.0",
         "False",
         "True",
         "False",
         "True",
         "True",
         "True",
         "False",
         "False",
         "True",
         "no indicado",
         "False",
         "False",
         "0.0",
         "False",
         "False",
         "False",
         "False",
         "False",
         "False",
         "True",
         "False",
         "True",
         "True",
         "False",
         "True",
         "True",
         "True",
         "True",
         "True",
         "False",
         "False",
         "False",
         "False",
         "False",
         "False",
         "1974.0",
         "1534.5425531914893",
         "51.0",
         "11.879289319456204",
         "4.553876891600541",
         "4.007333185232471",
         "7.3366390524187235"
        ],
        [
         "3",
         "Piso en venta en calle Pedro Jiménez",
         "San Andrés, Madrid",
         "64.0",
         "63.0",
         "2",
         "1.0",
         "Calle Pedro Jiménez",
         "True",
         "Bajo",
         "True",
         "Neighborhood 134: San Andrés (1617.18 €/m2) - District 21: Villaverde",
         "sale",
         "0",
         "False",
         "109900",
         "1717",
         "True",
         "HouseType 1: Pisos",
         "False",
         "False",
         "1955.0",
         "False",
         "False",
         "False",
         "False",
         "True",
         "True",
         "False",
         "False",
         "True",
         "en trámite",
         "False",
         "False",
         "0.0",
         "False",
         "False",
         "True",
         "False",
         "True",
         "True",
         "True",
         "True",
         "True",
         "True",
         "False",
         "True",
         "False",
         "False",
         "False",
         "False",
         "False",
         "False",
         "False",
         "False",
         "False",
         "False",
         "1955.0",
         "1717.1875",
         "70.0",
         "11.60733523953139",
         "4.174387269895637",
         "4.1588830833596715",
         "7.449025235122202"
        ],
        [
         "4",
         "Piso en venta en carretera de Villaverde a Vallecas",
         "Los Rosales, Madrid",
         "108.0",
         "90.0",
         "2",
         "2.0",
         "Carretera de Villaverde a Vallecas",
         "True",
         "4",
         "False",
         "Neighborhood 133: Los Rosales (1827.79 €/m2) - District 21: Villaverde",
         "sale",
         "0",
         "False",
         "260000",
         "2407",
         "True",
         "HouseType 1: Pisos",
         "False",
         "False",
         "2003.0",
         "False",
         "False",
         "True",
         "True",
         "True",
         "True",
         "True",
         "False",
         "True",
         "en trámite",
         "True",
         "True",
         "0.0",
         "True",
         "True",
         "True",
         "True",
         "True",
         "True",
         "False",
         "False",
         "False",
         "True",
         "False",
         "False",
         "False",
         "False",
         "False",
         "False",
         "False",
         "False",
         "False",
         "False",
         "False",
         "False",
         "2003.0",
         "2407.4074074074074",
         "22.0",
         "12.468440756144114",
         "4.6913478822291435",
         "4.51085950651685",
         "7.786720981240523"
        ]
       ],
       "shape": {
        "columns": 63,
        "rows": 5
       }
      },
      "text/html": [
       "<div>\n",
       "<style scoped>\n",
       "    .dataframe tbody tr th:only-of-type {\n",
       "        vertical-align: middle;\n",
       "    }\n",
       "\n",
       "    .dataframe tbody tr th {\n",
       "        vertical-align: top;\n",
       "    }\n",
       "\n",
       "    .dataframe thead th {\n",
       "        text-align: right;\n",
       "    }\n",
       "</style>\n",
       "<table border=\"1\" class=\"dataframe\">\n",
       "  <thead>\n",
       "    <tr style=\"text-align: right;\">\n",
       "      <th></th>\n",
       "      <th>title</th>\n",
       "      <th>subtitle</th>\n",
       "      <th>sq_mt_built</th>\n",
       "      <th>sq_mt_useful</th>\n",
       "      <th>n_rooms</th>\n",
       "      <th>n_bathrooms</th>\n",
       "      <th>raw_address</th>\n",
       "      <th>is_exact_address_hidden</th>\n",
       "      <th>floor</th>\n",
       "      <th>is_floor_under</th>\n",
       "      <th>...</th>\n",
       "      <th>is_new_development_was_missing</th>\n",
       "      <th>house_type_id_was_missing</th>\n",
       "      <th>has_rent_price</th>\n",
       "      <th>built_year_clipped</th>\n",
       "      <th>price_per_m2</th>\n",
       "      <th>building_age</th>\n",
       "      <th>log_buy_price</th>\n",
       "      <th>log_sq_mt_built</th>\n",
       "      <th>log_sq_mt_useful</th>\n",
       "      <th>log_price_per_m2</th>\n",
       "    </tr>\n",
       "  </thead>\n",
       "  <tbody>\n",
       "    <tr>\n",
       "      <th>0</th>\n",
       "      <td>Piso en venta en calle de Godella, 64</td>\n",
       "      <td>San Cristóbal, Madrid</td>\n",
       "      <td>64.0</td>\n",
       "      <td>60.0</td>\n",
       "      <td>2</td>\n",
       "      <td>1.0</td>\n",
       "      <td>Calle de Godella, 64</td>\n",
       "      <td>False</td>\n",
       "      <td>3</td>\n",
       "      <td>False</td>\n",
       "      <td>...</td>\n",
       "      <td>False</td>\n",
       "      <td>False</td>\n",
       "      <td>False</td>\n",
       "      <td>1960.0</td>\n",
       "      <td>1328.125000</td>\n",
       "      <td>65.0</td>\n",
       "      <td>11.350418</td>\n",
       "      <td>4.174387</td>\n",
       "      <td>4.110874</td>\n",
       "      <td>7.192276</td>\n",
       "    </tr>\n",
       "    <tr>\n",
       "      <th>1</th>\n",
       "      <td>Piso en venta en calle de la del Manojo de Rosas</td>\n",
       "      <td>Los Ángeles, Madrid</td>\n",
       "      <td>70.0</td>\n",
       "      <td>82.0</td>\n",
       "      <td>3</td>\n",
       "      <td>1.0</td>\n",
       "      <td>Calle de la del Manojo de Rosas</td>\n",
       "      <td>True</td>\n",
       "      <td>4</td>\n",
       "      <td>False</td>\n",
       "      <td>...</td>\n",
       "      <td>False</td>\n",
       "      <td>False</td>\n",
       "      <td>False</td>\n",
       "      <td>1970.0</td>\n",
       "      <td>1855.714286</td>\n",
       "      <td>55.0</td>\n",
       "      <td>11.774528</td>\n",
       "      <td>4.262680</td>\n",
       "      <td>4.418841</td>\n",
       "      <td>7.526564</td>\n",
       "    </tr>\n",
       "    <tr>\n",
       "      <th>2</th>\n",
       "      <td>Piso en venta en calle del Talco, 68</td>\n",
       "      <td>San Andrés, Madrid</td>\n",
       "      <td>94.0</td>\n",
       "      <td>54.0</td>\n",
       "      <td>2</td>\n",
       "      <td>2.0</td>\n",
       "      <td>Calle del Talco, 68</td>\n",
       "      <td>False</td>\n",
       "      <td>1</td>\n",
       "      <td>False</td>\n",
       "      <td>...</td>\n",
       "      <td>False</td>\n",
       "      <td>False</td>\n",
       "      <td>False</td>\n",
       "      <td>1974.0</td>\n",
       "      <td>1534.542553</td>\n",
       "      <td>51.0</td>\n",
       "      <td>11.879289</td>\n",
       "      <td>4.553877</td>\n",
       "      <td>4.007333</td>\n",
       "      <td>7.336639</td>\n",
       "    </tr>\n",
       "    <tr>\n",
       "      <th>3</th>\n",
       "      <td>Piso en venta en calle Pedro Jiménez</td>\n",
       "      <td>San Andrés, Madrid</td>\n",
       "      <td>64.0</td>\n",
       "      <td>63.0</td>\n",
       "      <td>2</td>\n",
       "      <td>1.0</td>\n",
       "      <td>Calle Pedro Jiménez</td>\n",
       "      <td>True</td>\n",
       "      <td>Bajo</td>\n",
       "      <td>True</td>\n",
       "      <td>...</td>\n",
       "      <td>False</td>\n",
       "      <td>False</td>\n",
       "      <td>False</td>\n",
       "      <td>1955.0</td>\n",
       "      <td>1717.187500</td>\n",
       "      <td>70.0</td>\n",
       "      <td>11.607335</td>\n",
       "      <td>4.174387</td>\n",
       "      <td>4.158883</td>\n",
       "      <td>7.449025</td>\n",
       "    </tr>\n",
       "    <tr>\n",
       "      <th>4</th>\n",
       "      <td>Piso en venta en carretera de Villaverde a Val...</td>\n",
       "      <td>Los Rosales, Madrid</td>\n",
       "      <td>108.0</td>\n",
       "      <td>90.0</td>\n",
       "      <td>2</td>\n",
       "      <td>2.0</td>\n",
       "      <td>Carretera de Villaverde a Vallecas</td>\n",
       "      <td>True</td>\n",
       "      <td>4</td>\n",
       "      <td>False</td>\n",
       "      <td>...</td>\n",
       "      <td>False</td>\n",
       "      <td>False</td>\n",
       "      <td>False</td>\n",
       "      <td>2003.0</td>\n",
       "      <td>2407.407407</td>\n",
       "      <td>22.0</td>\n",
       "      <td>12.468441</td>\n",
       "      <td>4.691348</td>\n",
       "      <td>4.510860</td>\n",
       "      <td>7.786721</td>\n",
       "    </tr>\n",
       "  </tbody>\n",
       "</table>\n",
       "<p>5 rows × 63 columns</p>\n",
       "</div>"
      ],
      "text/plain": [
       "                                               title               subtitle  \\\n",
       "0              Piso en venta en calle de Godella, 64  San Cristóbal, Madrid   \n",
       "1   Piso en venta en calle de la del Manojo de Rosas    Los Ángeles, Madrid   \n",
       "2               Piso en venta en calle del Talco, 68     San Andrés, Madrid   \n",
       "3               Piso en venta en calle Pedro Jiménez     San Andrés, Madrid   \n",
       "4  Piso en venta en carretera de Villaverde a Val...    Los Rosales, Madrid   \n",
       "\n",
       "   sq_mt_built  sq_mt_useful  n_rooms  n_bathrooms  \\\n",
       "0         64.0          60.0        2          1.0   \n",
       "1         70.0          82.0        3          1.0   \n",
       "2         94.0          54.0        2          2.0   \n",
       "3         64.0          63.0        2          1.0   \n",
       "4        108.0          90.0        2          2.0   \n",
       "\n",
       "                          raw_address  is_exact_address_hidden floor  \\\n",
       "0                Calle de Godella, 64                    False     3   \n",
       "1     Calle de la del Manojo de Rosas                     True     4   \n",
       "2                 Calle del Talco, 68                    False     1   \n",
       "3                 Calle Pedro Jiménez                     True  Bajo   \n",
       "4  Carretera de Villaverde a Vallecas                     True     4   \n",
       "\n",
       "   is_floor_under  ... is_new_development_was_missing  \\\n",
       "0           False  ...                          False   \n",
       "1           False  ...                          False   \n",
       "2           False  ...                          False   \n",
       "3            True  ...                          False   \n",
       "4           False  ...                          False   \n",
       "\n",
       "  house_type_id_was_missing  has_rent_price  built_year_clipped  price_per_m2  \\\n",
       "0                     False           False              1960.0   1328.125000   \n",
       "1                     False           False              1970.0   1855.714286   \n",
       "2                     False           False              1974.0   1534.542553   \n",
       "3                     False           False              1955.0   1717.187500   \n",
       "4                     False           False              2003.0   2407.407407   \n",
       "\n",
       "   building_age  log_buy_price log_sq_mt_built  log_sq_mt_useful  \\\n",
       "0          65.0      11.350418        4.174387          4.110874   \n",
       "1          55.0      11.774528        4.262680          4.418841   \n",
       "2          51.0      11.879289        4.553877          4.007333   \n",
       "3          70.0      11.607335        4.174387          4.158883   \n",
       "4          22.0      12.468441        4.691348          4.510860   \n",
       "\n",
       "   log_price_per_m2  \n",
       "0          7.192276  \n",
       "1          7.526564  \n",
       "2          7.336639  \n",
       "3          7.449025  \n",
       "4          7.786721  \n",
       "\n",
       "[5 rows x 63 columns]"
      ]
     },
     "execution_count": 22,
     "metadata": {},
     "output_type": "execute_result"
    }
   ],
   "source": [
    "# Drop identifier / index columns\n",
    "drop_cols = [\"Unnamed: 0\", \"id\"]              \n",
    "df = df.drop(columns=[c for c in drop_cols if c in df.columns])\n",
    "\n",
    "\n",
    "sale_mask = df[\"operation\"].str.contains(\"sale|venta\", na=False)\n",
    "df.loc[sale_mask, \"rent_price\"] = 0                 \n",
    "df[\"has_rent_price\"] = ~sale_mask                  \n",
    "\n",
    "# Clip impossible `built_year`\n",
    "df[\"built_year_clipped\"] = df[\"built_year\"].clip(lower=1700, upper=2025)\n",
    "\n",
    "# price_per_m2 and building_age\n",
    "df[\"price_per_m2\"] = df[\"buy_price\"] / df[\"sq_mt_built\"]\n",
    "df[\"building_age\"]  = 2025 - df[\"built_year_clipped\"]\n",
    "\n",
    "# Log-transform highly skewed columns\n",
    "for col in [\"buy_price\", \"sq_mt_built\", \"sq_mt_useful\", \"price_per_m2\"]:\n",
    "    df[f\"log_{col}\"] = np.log1p(df[col])\n",
    "\n",
    "print(\"End shape :\", df.shape)\n",
    "df.head()"
   ]
  },
  {
   "cell_type": "code",
   "execution_count": 23,
   "id": "36c8157a",
   "metadata": {},
   "outputs": [
    {
     "name": "stdout",
     "output_type": "stream",
     "text": [
      "Processed feature matrix shape: (21707, 20091)\n"
     ]
    }
   ],
   "source": [
    "from sklearn.compose import ColumnTransformer\n",
    "from sklearn.pipeline import Pipeline\n",
    "from sklearn.preprocessing import OneHotEncoder, StandardScaler\n",
    "from sklearn.feature_extraction.text import TfidfVectorizer\n",
    "from sklearn.preprocessing import FunctionTransformer\n",
    "from category_encoders.target_encoder import TargetEncoder\n",
    "import numpy as np\n",
    "\n",
    "target = \"log_buy_price\"\n",
    "y      = df[target].values\n",
    "\n",
    "text_cols  = [\"raw_address\"]\n",
    "bool_cols  = [c for c in df.columns if df[c].dtype == \"bool\"]\n",
    "\n",
    "numeric_cols = df.select_dtypes(include=[\"number\"]).columns.difference([target])\n",
    "cat_cols     = df.select_dtypes(include=[\"object\",\"category\"]).columns.difference(text_cols)\n",
    "low_card     = [c for c in cat_cols if df[c].nunique() <= 50]\n",
    "high_card    = [c for c in cat_cols if df[c].nunique() > 50]\n",
    "\n",
    "numeric_pipe   = Pipeline([(\"scaler\", StandardScaler())])\n",
    "low_card_pipe  = Pipeline([(\"onehot\", OneHotEncoder(handle_unknown=\"ignore\"))])\n",
    "high_card_pipe = Pipeline([(\"target\", TargetEncoder())])\n",
    "\n",
    "# NEW: selector → TF-IDF\n",
    "text_pipe = Pipeline([\n",
    "    (\"selector\", FunctionTransformer(lambda x: x.squeeze(), validate=False)),\n",
    "    (\"tfidf\",    TfidfVectorizer(max_features=20_000, ngram_range=(1,3)))\n",
    "])\n",
    "\n",
    "preprocessor = ColumnTransformer(\n",
    "    transformers=[\n",
    "        (\"num\",      numeric_pipe,  numeric_cols),\n",
    "        (\"bools\",    \"passthrough\", bool_cols),\n",
    "        (\"low_cat\",  low_card_pipe, low_card),\n",
    "        (\"high_cat\", high_card_pipe, high_card),\n",
    "        (\"text\",     text_pipe,     text_cols)   # keeps raw_address\n",
    "    ],\n",
    "    remainder=\"drop\"\n",
    ")\n",
    "\n",
    "X = preprocessor.fit_transform(df, y)\n",
    "print(\"Processed feature matrix shape:\", X.shape)\n"
   ]
  },
  {
   "cell_type": "code",
   "execution_count": 24,
   "id": "43ceb840",
   "metadata": {},
   "outputs": [],
   "source": [
    "df[\"listing_id\"] = range(len(df))\n",
    "df.to_csv(\"../data/processed/cleaned_data.csv\", index=False)\n"
   ]
  }
 ],
 "metadata": {
  "kernelspec": {
   "display_name": "Python 3",
   "language": "python",
   "name": "python3"
  },
  "language_info": {
   "codemirror_mode": {
    "name": "ipython",
    "version": 3
   },
   "file_extension": ".py",
   "mimetype": "text/x-python",
   "name": "python",
   "nbconvert_exporter": "python",
   "pygments_lexer": "ipython3",
   "version": "3.11.5"
  }
 },
 "nbformat": 4,
 "nbformat_minor": 5
}
